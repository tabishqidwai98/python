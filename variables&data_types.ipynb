{
 "metadata": {
  "language_info": {
   "codemirror_mode": {
    "name": "ipython",
    "version": 3
   },
   "file_extension": ".py",
   "mimetype": "text/x-python",
   "name": "python",
   "nbconvert_exporter": "python",
   "pygments_lexer": "ipython3",
   "version": "3.8.5"
  },
  "orig_nbformat": 2,
  "kernelspec": {
   "name": "python385jvsc74a57bd087d30d38d8b97526cc49dca6fadb118e9942cc4aa28d158e5554e3e5bfcc2be6",
   "display_name": "Python 3.8.5 64-bit ('base': conda)"
  }
 },
 "nbformat": 4,
 "nbformat_minor": 2,
 "cells": [
  {
   "cell_type": "code",
   "execution_count": 11,
   "metadata": {},
   "outputs": [
    {
     "output_type": "stream",
     "name": "stdout",
     "text": [
      "hello world\n"
     ]
    }
   ],
   "source": [
    "print(\"hello world\")"
   ]
  },
  {
   "cell_type": "code",
   "execution_count": 12,
   "metadata": {},
   "outputs": [
    {
     "output_type": "stream",
     "name": "stdout",
     "text": [
      "hello 4\n"
     ]
    }
   ],
   "source": [
    "print(\"hello\", 4)"
   ]
  },
  {
   "cell_type": "code",
   "execution_count": 13,
   "metadata": {},
   "outputs": [],
   "source": [
    "a = 4"
   ]
  },
  {
   "cell_type": "code",
   "execution_count": 14,
   "metadata": {},
   "outputs": [
    {
     "output_type": "execute_result",
     "data": {
      "text/plain": [
       "4"
      ]
     },
     "metadata": {},
     "execution_count": 14
    }
   ],
   "source": [
    "a"
   ]
  },
  {
   "cell_type": "code",
   "execution_count": 15,
   "metadata": {},
   "outputs": [],
   "source": [
    "a =4.2"
   ]
  },
  {
   "cell_type": "code",
   "execution_count": 16,
   "metadata": {},
   "outputs": [
    {
     "output_type": "execute_result",
     "data": {
      "text/plain": [
       "4.2"
      ]
     },
     "metadata": {},
     "execution_count": 16
    }
   ],
   "source": [
    "a"
   ]
  },
  {
   "cell_type": "code",
   "execution_count": 17,
   "metadata": {},
   "outputs": [],
   "source": [
    "a = \"hello\""
   ]
  },
  {
   "cell_type": "code",
   "execution_count": 18,
   "metadata": {},
   "outputs": [
    {
     "output_type": "execute_result",
     "data": {
      "text/plain": [
       "'hello'"
      ]
     },
     "metadata": {},
     "execution_count": 18
    }
   ],
   "source": [
    "a"
   ]
  },
  {
   "cell_type": "code",
   "execution_count": 19,
   "metadata": {},
   "outputs": [],
   "source": [
    "a = 7"
   ]
  },
  {
   "cell_type": "code",
   "execution_count": 20,
   "metadata": {},
   "outputs": [
    {
     "output_type": "execute_result",
     "data": {
      "text/plain": [
       "int"
      ]
     },
     "metadata": {},
     "execution_count": 20
    }
   ],
   "source": [
    "type(a)"
   ]
  },
  {
   "cell_type": "code",
   "execution_count": 21,
   "metadata": {},
   "outputs": [
    {
     "output_type": "execute_result",
     "data": {
      "text/plain": [
       "float"
      ]
     },
     "metadata": {},
     "execution_count": 21
    }
   ],
   "source": [
    "b = 7.2\n",
    "type(7.2)"
   ]
  },
  {
   "cell_type": "code",
   "execution_count": 22,
   "metadata": {},
   "outputs": [
    {
     "output_type": "execute_result",
     "data": {
      "text/plain": [
       "str"
      ]
     },
     "metadata": {},
     "execution_count": 22
    }
   ],
   "source": [
    "c ='hello sunudhi'\n",
    "type(c)"
   ]
  },
  {
   "cell_type": "code",
   "execution_count": 23,
   "metadata": {},
   "outputs": [],
   "source": [
    "name = \"shawshank redemption\""
   ]
  },
  {
   "cell_type": "code",
   "execution_count": 24,
   "metadata": {},
   "outputs": [],
   "source": [
    "name = \"\"\"shawshank Redemption\"\"\""
   ]
  },
  {
   "cell_type": "code",
   "execution_count": 25,
   "metadata": {},
   "outputs": [
    {
     "output_type": "execute_result",
     "data": {
      "text/plain": [
       "'shawshank Redemption'"
      ]
     },
     "metadata": {},
     "execution_count": 25
    }
   ],
   "source": [
    "name"
   ]
  },
  {
   "cell_type": "code",
   "execution_count": 26,
   "metadata": {},
   "outputs": [],
   "source": [
    "name = '''tabish'''"
   ]
  },
  {
   "cell_type": "code",
   "execution_count": 27,
   "metadata": {},
   "outputs": [
    {
     "output_type": "execute_result",
     "data": {
      "text/plain": [
       "'tabish'"
      ]
     },
     "metadata": {},
     "execution_count": 27
    }
   ],
   "source": [
    "name"
   ]
  },
  {
   "cell_type": "code",
   "execution_count": 28,
   "metadata": {},
   "outputs": [],
   "source": [
    "F = .5"
   ]
  },
  {
   "cell_type": "code",
   "execution_count": 29,
   "metadata": {},
   "outputs": [],
   "source": [
    "F = 0.45"
   ]
  },
  {
   "cell_type": "code",
   "execution_count": 30,
   "metadata": {},
   "outputs": [],
   "source": [
    "t = True"
   ]
  },
  {
   "cell_type": "code",
   "execution_count": 31,
   "metadata": {},
   "outputs": [
    {
     "output_type": "execute_result",
     "data": {
      "text/plain": [
       "True"
      ]
     },
     "metadata": {},
     "execution_count": 31
    }
   ],
   "source": [
    "t"
   ]
  },
  {
   "cell_type": "code",
   "execution_count": 32,
   "metadata": {},
   "outputs": [
    {
     "output_type": "execute_result",
     "data": {
      "text/plain": [
       "bool"
      ]
     },
     "metadata": {},
     "execution_count": 32
    }
   ],
   "source": [
    "type(t)"
   ]
  },
  {
   "cell_type": "code",
   "execution_count": 33,
   "metadata": {},
   "outputs": [],
   "source": [
    "f = False"
   ]
  },
  {
   "cell_type": "code",
   "execution_count": 34,
   "metadata": {},
   "outputs": [
    {
     "output_type": "execute_result",
     "data": {
      "text/plain": [
       "False"
      ]
     },
     "metadata": {},
     "execution_count": 34
    }
   ],
   "source": [
    "f"
   ]
  },
  {
   "cell_type": "code",
   "execution_count": 35,
   "metadata": {},
   "outputs": [
    {
     "output_type": "execute_result",
     "data": {
      "text/plain": [
       "bool"
      ]
     },
     "metadata": {},
     "execution_count": 35
    }
   ],
   "source": [
    "type(f)"
   ]
  },
  {
   "cell_type": "code",
   "execution_count": 36,
   "metadata": {},
   "outputs": [],
   "source": [
    "n = None"
   ]
  },
  {
   "cell_type": "code",
   "execution_count": 37,
   "metadata": {},
   "outputs": [],
   "source": [
    "n"
   ]
  },
  {
   "cell_type": "code",
   "execution_count": 38,
   "metadata": {},
   "outputs": [
    {
     "output_type": "execute_result",
     "data": {
      "text/plain": [
       "NoneType"
      ]
     },
     "metadata": {},
     "execution_count": 38
    }
   ],
   "source": [
    "type(n)"
   ]
  },
  {
   "cell_type": "code",
   "execution_count": 39,
   "metadata": {},
   "outputs": [
    {
     "output_type": "execute_result",
     "data": {
      "text/plain": [
       "7"
      ]
     },
     "metadata": {},
     "execution_count": 39
    }
   ],
   "source": [
    "a"
   ]
  },
  {
   "cell_type": "code",
   "execution_count": 40,
   "metadata": {},
   "outputs": [
    {
     "output_type": "execute_result",
     "data": {
      "text/plain": [
       "7.2"
      ]
     },
     "metadata": {},
     "execution_count": 40
    }
   ],
   "source": [
    "b"
   ]
  },
  {
   "cell_type": "code",
   "execution_count": 41,
   "metadata": {},
   "outputs": [
    {
     "output_type": "execute_result",
     "data": {
      "text/plain": [
       "14.2"
      ]
     },
     "metadata": {},
     "execution_count": 41
    }
   ],
   "source": [
    "a+b"
   ]
  },
  {
   "cell_type": "code",
   "execution_count": 42,
   "metadata": {},
   "outputs": [
    {
     "output_type": "execute_result",
     "data": {
      "text/plain": [
       "10"
      ]
     },
     "metadata": {},
     "execution_count": 42
    }
   ],
   "source": [
    "4+6"
   ]
  },
  {
   "cell_type": "code",
   "execution_count": 43,
   "metadata": {},
   "outputs": [
    {
     "output_type": "execute_result",
     "data": {
      "text/plain": [
       "16"
      ]
     },
     "metadata": {},
     "execution_count": 43
    }
   ],
   "source": [
    "4*4"
   ]
  },
  {
   "cell_type": "code",
   "execution_count": 44,
   "metadata": {},
   "outputs": [
    {
     "output_type": "execute_result",
     "data": {
      "text/plain": [
       "2.0"
      ]
     },
     "metadata": {},
     "execution_count": 44
    }
   ],
   "source": [
    "4/2"
   ]
  },
  {
   "cell_type": "code",
   "execution_count": 45,
   "metadata": {},
   "outputs": [
    {
     "output_type": "execute_result",
     "data": {
      "text/plain": [
       "1.3333333333333333"
      ]
     },
     "metadata": {},
     "execution_count": 45
    }
   ],
   "source": [
    "4/3"
   ]
  },
  {
   "cell_type": "code",
   "execution_count": 46,
   "metadata": {},
   "outputs": [
    {
     "output_type": "execute_result",
     "data": {
      "text/plain": [
       "1"
      ]
     },
     "metadata": {},
     "execution_count": 46
    }
   ],
   "source": [
    "4//3"
   ]
  },
  {
   "cell_type": "code",
   "execution_count": 47,
   "metadata": {},
   "outputs": [
    {
     "output_type": "execute_result",
     "data": {
      "text/plain": [
       "100"
      ]
     },
     "metadata": {},
     "execution_count": 47
    }
   ],
   "source": [
    "10**2"
   ]
  },
  {
   "cell_type": "code",
   "execution_count": 48,
   "metadata": {},
   "outputs": [
    {
     "output_type": "execute_result",
     "data": {
      "text/plain": [
       "0"
      ]
     },
     "metadata": {},
     "execution_count": 48
    }
   ],
   "source": [
    "4%2"
   ]
  },
  {
   "cell_type": "code",
   "execution_count": 49,
   "metadata": {},
   "outputs": [
    {
     "output_type": "execute_result",
     "data": {
      "text/plain": [
       "1"
      ]
     },
     "metadata": {},
     "execution_count": 49
    }
   ],
   "source": [
    "4%3"
   ]
  },
  {
   "cell_type": "code",
   "execution_count": 50,
   "metadata": {},
   "outputs": [
    {
     "output_type": "execute_result",
     "data": {
      "text/plain": [
       "True"
      ]
     },
     "metadata": {},
     "execution_count": 50
    }
   ],
   "source": [
    "7>3"
   ]
  },
  {
   "cell_type": "code",
   "execution_count": 51,
   "metadata": {},
   "outputs": [
    {
     "output_type": "execute_result",
     "data": {
      "text/plain": [
       "False"
      ]
     },
     "metadata": {},
     "execution_count": 51
    }
   ],
   "source": [
    "a>b"
   ]
  },
  {
   "cell_type": "code",
   "execution_count": 52,
   "metadata": {},
   "outputs": [
    {
     "output_type": "execute_result",
     "data": {
      "text/plain": [
       "False"
      ]
     },
     "metadata": {},
     "execution_count": 52
    }
   ],
   "source": [
    "a==b"
   ]
  },
  {
   "cell_type": "code",
   "execution_count": 53,
   "metadata": {},
   "outputs": [
    {
     "output_type": "execute_result",
     "data": {
      "text/plain": [
       "True"
      ]
     },
     "metadata": {},
     "execution_count": 53
    }
   ],
   "source": [
    "7==7"
   ]
  },
  {
   "cell_type": "code",
   "execution_count": 56,
   "metadata": {},
   "outputs": [
    {
     "output_type": "execute_result",
     "data": {
      "text/plain": [
       "True"
      ]
     },
     "metadata": {},
     "execution_count": 56
    }
   ],
   "source": [
    "a>=b"
   ]
  },
  {
   "cell_type": "code",
   "execution_count": 55,
   "metadata": {},
   "outputs": [],
   "source": [
    "a=8"
   ]
  },
  {
   "cell_type": "code",
   "execution_count": 57,
   "metadata": {},
   "outputs": [
    {
     "output_type": "execute_result",
     "data": {
      "text/plain": [
       "False"
      ]
     },
     "metadata": {},
     "execution_count": 57
    }
   ],
   "source": [
    "a <= b"
   ]
  },
  {
   "cell_type": "code",
   "execution_count": 61,
   "metadata": {},
   "outputs": [
    {
     "output_type": "execute_result",
     "data": {
      "text/plain": [
       "False"
      ]
     },
     "metadata": {},
     "execution_count": 61
    }
   ],
   "source": [
    "a!=b"
   ]
  },
  {
   "cell_type": "code",
   "execution_count": 59,
   "metadata": {},
   "outputs": [],
   "source": [
    "a =8"
   ]
  },
  {
   "cell_type": "code",
   "execution_count": 60,
   "metadata": {},
   "outputs": [],
   "source": [
    "b=8"
   ]
  },
  {
   "cell_type": "code",
   "execution_count": 62,
   "metadata": {},
   "outputs": [],
   "source": [
    "a = True"
   ]
  },
  {
   "cell_type": "code",
   "execution_count": 63,
   "metadata": {},
   "outputs": [],
   "source": [
    "b = False"
   ]
  },
  {
   "cell_type": "code",
   "execution_count": 64,
   "metadata": {},
   "outputs": [
    {
     "output_type": "execute_result",
     "data": {
      "text/plain": [
       "False"
      ]
     },
     "metadata": {},
     "execution_count": 64
    }
   ],
   "source": [
    "a and b"
   ]
  },
  {
   "cell_type": "code",
   "execution_count": 65,
   "metadata": {},
   "outputs": [
    {
     "output_type": "execute_result",
     "data": {
      "text/plain": [
       "True"
      ]
     },
     "metadata": {},
     "execution_count": 65
    }
   ],
   "source": [
    "a or b"
   ]
  },
  {
   "cell_type": "code",
   "execution_count": 67,
   "metadata": {},
   "outputs": [
    {
     "output_type": "execute_result",
     "data": {
      "text/plain": [
       "False"
      ]
     },
     "metadata": {},
     "execution_count": 67
    }
   ],
   "source": [
    "not a or b"
   ]
  },
  {
   "cell_type": "code",
   "execution_count": 68,
   "metadata": {},
   "outputs": [
    {
     "output_type": "execute_result",
     "data": {
      "text/plain": [
       "False"
      ]
     },
     "metadata": {},
     "execution_count": 68
    }
   ],
   "source": [
    "a is b"
   ]
  },
  {
   "cell_type": "code",
   "execution_count": 70,
   "metadata": {},
   "outputs": [],
   "source": [
    "a = ['a','b', 'cdac']"
   ]
  },
  {
   "cell_type": "code",
   "execution_count": 71,
   "metadata": {},
   "outputs": [],
   "source": [
    "b= 'b'"
   ]
  },
  {
   "cell_type": "code",
   "execution_count": 72,
   "metadata": {},
   "outputs": [
    {
     "output_type": "execute_result",
     "data": {
      "text/plain": [
       "True"
      ]
     },
     "metadata": {},
     "execution_count": 72
    }
   ],
   "source": [
    "b in a"
   ]
  },
  {
   "cell_type": "code",
   "execution_count": 1,
   "metadata": {},
   "outputs": [
    {
     "output_type": "stream",
     "name": "stdout",
     "text": [
      "10 is divisible by 2\n"
     ]
    }
   ],
   "source": [
    "if 10%2 == 0:\n",
    "    print(\"10 is divisible by 2\")\n",
    "else:\n",
    "    print('not divisible')"
   ]
  },
  {
   "cell_type": "code",
   "execution_count": 2,
   "metadata": {},
   "outputs": [],
   "source": [
    "a= 20"
   ]
  },
  {
   "cell_type": "code",
   "execution_count": 3,
   "metadata": {},
   "outputs": [
    {
     "output_type": "stream",
     "name": "stdout",
     "text": [
      "okay\n"
     ]
    }
   ],
   "source": [
    "if a>=10:\n",
    "    print('okay')\n",
    "else:\n",
    "    print('not okay')"
   ]
  },
  {
   "cell_type": "code",
   "execution_count": 11,
   "metadata": {},
   "outputs": [],
   "source": [
    "string = \"3 idiots is a nice movie with rating of 8.4 on IMDB\""
   ]
  },
  {
   "cell_type": "code",
   "execution_count": 5,
   "metadata": {},
   "outputs": [
    {
     "output_type": "stream",
     "name": "stdout",
     "text": [
      "cool\n"
     ]
    }
   ],
   "source": [
    "if 'nice' in string:\n",
    "    print('cool')\n",
    "else:\n",
    "    print('not okay') "
   ]
  },
  {
   "cell_type": "code",
   "execution_count": 10,
   "metadata": {},
   "outputs": [
    {
     "output_type": "stream",
     "name": "stdout",
     "text": [
      "False\n"
     ]
    }
   ],
   "source": [
    "print('5' in string)"
   ]
  },
  {
   "cell_type": "code",
   "execution_count": 13,
   "metadata": {},
   "outputs": [
    {
     "output_type": "stream",
     "name": "stdout",
     "text": [
      "2\n4\n6\n8\n10\n12\n14\n16\n18\n"
     ]
    }
   ],
   "source": [
    "for i in range(2,20,2):\n",
    "    print(i)"
   ]
  },
  {
   "cell_type": "code",
   "execution_count": 14,
   "metadata": {},
   "outputs": [
    {
     "output_type": "stream",
     "name": "stdout",
     "text": [
      "hello\n23\n43\n45\n100\n39\n3 idiots\n"
     ]
    }
   ],
   "source": [
    "lst = ['hello', 23, 43, 45, 100, 39, '3 idiots']\n",
    "for i in lst:\n",
    "    print(i)"
   ]
  },
  {
   "cell_type": "code",
   "execution_count": 20,
   "metadata": {},
   "outputs": [],
   "source": [
    "a = 5"
   ]
  },
  {
   "cell_type": "code",
   "execution_count": 16,
   "metadata": {},
   "outputs": [
    {
     "output_type": "stream",
     "name": "stdout",
     "text": [
      "loops run fine\n"
     ]
    }
   ],
   "source": [
    "for i in range(6):\n",
    "    if a > 23:\n",
    "        print('still needs more run')\n",
    "else:\n",
    "    print('loops run fine')"
   ]
  },
  {
   "cell_type": "code",
   "execution_count": 21,
   "metadata": {
    "tags": []
   },
   "outputs": [
    {
     "output_type": "stream",
     "name": "stdout",
     "text": [
      "5\n4\n3\n2\n1\n"
     ]
    }
   ],
   "source": [
    "while a:\n",
    "    print(a)\n",
    "    a=a-1"
   ]
  },
  {
   "cell_type": "code",
   "execution_count": 22,
   "metadata": {
    "tags": [
     "outputPrepend"
    ]
   },
   "outputs": [
    {
     "output_type": "stream",
     "name": "stdout",
     "text": [
      "op will run forever\n",
      "this loop will run forever\n",
      "this loop will run forever\n",
      "this loop will run forever\n",
      "this loop will run forever\n",
      "this loop will run forever\n",
      "this loop will run forever\n",
      "this loop will run forever\n",
      "this loop will run forever\n",
      "this loop will run forever\n",
      "this loop will run forever\n",
      "this loop will run forever\n",
      "this loop will run forever\n",
      "this loop will run forever\n",
      "this loop will run forever\n",
      "this loop will run forever\n",
      "this loop will run forever\n",
      "this loop will run forever\n",
      "this loop will run forever\n",
      "this loop will run forever\n",
      "this loop will run forever\n",
      "this loop will run forever\n",
      "this loop will run forever\n",
      "this loop will run forever\n",
      "this loop will run forever\n",
      "this loop will run forever\n",
      "this loop will run forever\n",
      "this loop will run forever\n",
      "this loop will run forever\n",
      "this loop will run forever\n",
      "this loop will run forever\n",
      "this loop will run forever\n",
      "this loop will run forever\n",
      "this loop will run forever\n",
      "this loop will run forever\n",
      "this loop will run forever\n",
      "this loop will run forever\n",
      "this loop will run forever\n",
      "this loop will run forever\n",
      "this loop will run forever\n",
      "this loop will run forever\n",
      "this loop will run forever\n",
      "this loop will run forever\n",
      "this loop will run forever\n",
      "this loop will run forever\n",
      "this loop will run forever\n",
      "this loop will run forever\n",
      "this loop will run forever\n",
      "this loop will run forever\n",
      "this loop will run forever\n",
      "this loop will run forever\n",
      "this loop will run forever\n",
      "this loop will run forever\n",
      "this loop will run forever\n",
      "this loop will run forever\n",
      "this loop will run forever\n",
      "this loop will run forever\n",
      "this loop will run forever\n",
      "this loop will run forever\n",
      "this loop will run forever\n",
      "this loop will run forever\n",
      "this loop will run forever\n",
      "this loop will run forever\n",
      "this loop will run forever\n",
      "this loop will run forever\n",
      "this loop will run forever\n",
      "this loop will run forever\n",
      "this loop will run forever\n",
      "this loop will run forever\n",
      "this loop will run forever\n",
      "this loop will run forever\n",
      "this loop will run forever\n",
      "this loop will run forever\n",
      "this loop will run forever\n",
      "this loop will run forever\n",
      "this loop will run forever\n",
      "this loop will run forever\n",
      "this loop will run forever\n",
      "this loop will run forever\n",
      "this loop will run forever\n",
      "this loop will run forever\n",
      "this loop will run forever\n",
      "this loop will run forever\n",
      "this loop will run forever\n",
      "this loop will run forever\n",
      "this loop will run forever\n",
      "this loop will run forever\n",
      "this loop will run forever\n",
      "this loop will run forever\n",
      "this loop will run forever\n",
      "this loop will run forever\n",
      "this loop will run forever\n",
      "this loop will run forever\n",
      "this loop will run forever\n",
      "this loop will run forever\n",
      "this loop will run forever\n",
      "this loop will run forever\n",
      "this loop will run forever\n",
      "this loop will run forever\n",
      "this loop will run forever\n",
      "this loop will run forever\n",
      "this loop will run forever\n",
      "this loop will run forever\n",
      "this loop will run forever\n",
      "this loop will run forever\n",
      "this loop will run forever\n",
      "this loop will run forever\n",
      "this loop will run forever\n",
      "this loop will run forever\n",
      "this loop will run forever\n",
      "this loop will run forever\n",
      "this loop will run forever\n",
      "this loop will run forever\n",
      "this loop will run forever\n",
      "this loop will run forever\n",
      "this loop will run forever\n",
      "this loop will run forever\n",
      "this loop will run forever\n",
      "this loop will run forever\n",
      "this loop will run forever\n",
      "this loop will run forever\n",
      "this loop will run forever\n",
      "this loop will run forever\n",
      "this loop will run forever\n",
      "this loop will run forever\n",
      "this loop will run forever\n",
      "this loop will run forever\n",
      "this loop will run forever\n",
      "this loop will run forever\n",
      "this loop will run forever\n",
      "this loop will run forever\n",
      "this loop will run forever\n",
      "this loop will run forever\n",
      "this loop will run forever\n",
      "this loop will run forever\n",
      "this loop will run forever\n",
      "this loop will run forever\n",
      "this loop will run forever\n",
      "this loop will run forever\n",
      "this loop will run forever\n",
      "this loop will run forever\n",
      "this loop will run forever\n",
      "this loop will run forever\n",
      "this loop will run forever\n",
      "this loop will run forever\n",
      "this loop will run forever\n",
      "this loop will run forever\n",
      "this loop will run forever\n",
      "this loop will run forever\n",
      "this loop will run forever\n",
      "this loop will run forever\n",
      "this loop will run forever\n",
      "this loop will run forever\n",
      "this loop will run forever\n",
      "this loop will run forever\n",
      "this loop will run forever\n",
      "this loop will run forever\n",
      "this loop will run forever\n",
      "this loop will run forever\n",
      "this loop will run forever\n",
      "this loop will run forever\n",
      "this loop will run forever\n",
      "this loop will run forever\n",
      "this loop will run forever\n",
      "this loop will run forever\n",
      "this loop will run forever\n",
      "this loop will run forever\n",
      "this loop will run forever\n",
      "this loop will run forever\n",
      "this loop will run forever\n",
      "this loop will run forever\n",
      "this loop will run forever\n",
      "this loop will run forever\n",
      "this loop will run forever\n",
      "this loop will run forever\n",
      "this loop will run forever\n",
      "this loop will run forever\n",
      "this loop will run forever\n",
      "this loop will run forever\n",
      "this loop will run forever\n",
      "this loop will run forever\n",
      "this loop will run forever\n",
      "this loop will run forever\n",
      "this loop will run forever\n",
      "this loop will run forever\n",
      "this loop will run forever\n",
      "this loop will run forever\n",
      "this loop will run forever\n",
      "this loop will run forever\n",
      "this loop will run forever\n",
      "this loop will run forever\n",
      "this loop will run forever\n",
      "this loop will run forever\n",
      "this loop will run forever\n",
      "this loop will run forever\n",
      "this loop will run forever\n",
      "this loop will run forever\n",
      "this loop will run forever\n",
      "this loop will run forever\n",
      "this loop will run forever\n",
      "this loop will run forever\n",
      "this loop will run forever\n",
      "this loop will run forever\n",
      "this loop will run forever\n",
      "this loop will run forever\n",
      "this loop will run forever\n",
      "this loop will run forever\n",
      "this loop will run forever\n",
      "this loop will run forever\n",
      "this loop will run forever\n",
      "this loop will run forever\n",
      "this loop will run forever\n",
      "this loop will run forever\n",
      "this loop will run forever\n",
      "this loop will run forever\n",
      "this loop will run forever\n",
      "this loop will run forever\n",
      "this loop will run forever\n",
      "this loop will run forever\n",
      "this loop will run forever\n",
      "this loop will run forever\n",
      "this loop will run forever\n",
      "this loop will run forever\n",
      "this loop will run forever\n",
      "this loop will run forever\n",
      "this loop will run forever\n",
      "this loop will run forever\n",
      "this loop will run forever\n",
      "this loop will run forever\n",
      "this loop will run forever\n",
      "this loop will run forever\n",
      "this loop will run forever\n",
      "this loop will run forever\n",
      "this loop will run forever\n",
      "this loop will run forever\n",
      "this loop will run forever\n",
      "this loop will run forever\n",
      "this loop will run forever\n",
      "this loop will run forever\n",
      "this loop will run forever\n",
      "this loop will run forever\n",
      "this loop will run forever\n",
      "this loop will run forever\n",
      "this loop will run forever\n",
      "this loop will run forever\n",
      "this loop will run forever\n",
      "this loop will run forever\n",
      "this loop will run forever\n",
      "this loop will run forever\n",
      "this loop will run forever\n",
      "this loop will run forever\n",
      "this loop will run forever\n",
      "this loop will run forever\n",
      "this loop will run forever\n",
      "this loop will run forever\n",
      "this loop will run forever\n",
      "this loop will run forever\n",
      "this loop will run forever\n",
      "this loop will run forever\n",
      "this loop will run forever\n",
      "this loop will run forever\n",
      "this loop will run forever\n",
      "this loop will run forever\n",
      "this loop will run forever\n",
      "this loop will run forever\n",
      "this loop will run forever\n",
      "this loop will run forever\n",
      "this loop will run forever\n",
      "this loop will run forever\n",
      "this loop will run forever\n",
      "this loop will run forever\n",
      "this loop will run forever\n",
      "this loop will run forever\n",
      "this loop will run forever\n",
      "this loop will run forever\n",
      "this loop will run forever\n",
      "this loop will run forever\n",
      "this loop will run forever\n",
      "this loop will run forever\n",
      "this loop will run forever\n",
      "this loop will run forever\n",
      "this loop will run forever\n",
      "this loop will run forever\n",
      "this loop will run forever\n",
      "this loop will run forever\n",
      "this loop will run forever\n",
      "this loop will run forever\n",
      "this loop will run forever\n",
      "this loop will run forever\n",
      "this loop will run forever\n",
      "this loop will run forever\n",
      "this loop will run forever\n",
      "this loop will run forever\n",
      "this loop will run forever\n",
      "this loop will run forever\n",
      "this loop will run forever\n",
      "this loop will run forever\n",
      "this loop will run forever\n",
      "this loop will run forever\n",
      "this loop will run forever\n",
      "this loop will run forever\n",
      "this loop will run forever\n",
      "this loop will run forever\n",
      "this loop will run forever\n",
      "this loop will run forever\n",
      "this loop will run forever\n",
      "this loop will run forever\n",
      "this loop will run forever\n",
      "this loop will run forever\n",
      "this loop will run forever\n",
      "this loop will run forever\n",
      "this loop will run forever\n",
      "this loop will run forever\n",
      "this loop will run forever\n",
      "this loop will run forever\n",
      "this loop will run forever\n",
      "this loop will run forever\n",
      "this loop will run forever\n",
      "this loop will run forever\n",
      "this loop will run forever\n",
      "this loop will run forever\n",
      "this loop will run forever\n",
      "this loop will run forever\n",
      "this loop will run forever\n",
      "this loop will run forever\n",
      "this loop will run forever\n",
      "this loop will run forever\n",
      "this loop will run forever\n",
      "this loop will run forever\n",
      "this loop will run forever\n",
      "this loop will run forever\n",
      "this loop will run forever\n",
      "this loop will run forever\n",
      "this loop will run forever\n",
      "this loop will run forever\n",
      "this loop will run forever\n",
      "this loop will run forever\n",
      "this loop will run forever\n",
      "this loop will run forever\n",
      "this loop will run forever\n",
      "this loop will run forever\n",
      "this loop will run forever\n",
      "this loop will run forever\n",
      "this loop will run forever\n",
      "this loop will run forever\n",
      "this loop will run forever\n",
      "this loop will run forever\n",
      "this loop will run forever\n",
      "this loop will run forever\n",
      "this loop will run forever\n",
      "this loop will run forever\n",
      "this loop will run forever\n",
      "this loop will run forever\n",
      "this loop will run forever\n",
      "this loop will run forever\n",
      "this loop will run forever\n",
      "this loop will run forever\n",
      "this loop will run forever\n",
      "this loop will run forever\n",
      "this loop will run forever\n",
      "this loop will run forever\n",
      "this loop will run forever\n",
      "this loop will run forever\n",
      "this loop will run forever\n",
      "this loop will run forever\n",
      "this loop will run forever\n",
      "this loop will run forever\n",
      "this loop will run forever\n",
      "this loop will run forever\n",
      "this loop will run forever\n",
      "this loop will run forever\n",
      "this loop will run forever\n",
      "this loop will run forever\n",
      "this loop will run forever\n",
      "this loop will run forever\n",
      "this loop will run forever\n",
      "this loop will run forever\n",
      "this loop will run forever\n",
      "this loop will run forever\n",
      "this loop will run forever\n",
      "this loop will run forever\n",
      "this loop will run forever\n",
      "this loop will run forever\n",
      "this loop will run forever\n",
      "this loop will run forever\n",
      "this loop will run forever\n",
      "this loop will run forever\n",
      "this loop will run forever\n",
      "this loop will run forever\n",
      "this loop will run forever\n",
      "this loop will run forever\n",
      "this loop will run forever\n",
      "this loop will run forever\n",
      "this loop will run forever\n",
      "this loop will run forever\n",
      "this loop will run forever\n",
      "this loop will run forever\n",
      "this loop will run forever\n",
      "this loop will run forever\n",
      "this loop will run forever\n",
      "this loop will run forever\n",
      "this loop will run forever\n",
      "this loop will run forever\n",
      "this loop will run forever\n",
      "this loop will run forever\n",
      "this loop will run forever\n",
      "this loop will run forever\n",
      "this loop will run forever\n",
      "this loop will run forever\n",
      "this loop will run forever\n",
      "this loop will run forever\n",
      "this loop will run forever\n",
      "this loop will run forever\n",
      "this loop will run forever\n",
      "this loop will run forever\n",
      "this loop will run forever\n",
      "this loop will run forever\n",
      "this loop will run forever\n",
      "this loop will run forever\n",
      "this loop will run forever\n",
      "this loop will run forever\n",
      "this loop will run forever\n",
      "this loop will run forever\n",
      "this loop will run forever\n",
      "this loop will run forever\n",
      "this loop will run forever\n",
      "this loop will run forever\n",
      "this loop will run forever\n",
      "this loop will run forever\n",
      "this loop will run forever\n",
      "this loop will run forever\n",
      "this loop will run forever\n",
      "this loop will run forever\n",
      "this loop will run forever\n",
      "this loop will run forever\n",
      "this loop will run forever\n",
      "this loop will run forever\n",
      "this loop will run forever\n",
      "this loop will run forever\n",
      "this loop will run forever\n",
      "this loop will run forever\n",
      "this loop will run forever\n",
      "this loop will run forever\n",
      "this loop will run forever\n",
      "this loop will run forever\n",
      "this loop will run forever\n",
      "this loop will run forever\n",
      "this loop will run forever\n",
      "this loop will run forever\n",
      "this loop will run forever\n",
      "this loop will run forever\n",
      "this loop will run forever\n",
      "this loop will run forever\n",
      "this loop will run forever\n",
      "this loop will run forever\n",
      "this loop will run forever\n",
      "this loop will run forever\n",
      "this loop will run forever\n",
      "this loop will run forever\n",
      "this loop will run forever\n",
      "this loop will run forever\n",
      "this loop will run forever\n",
      "this loop will run forever\n",
      "this loop will run forever\n",
      "this loop will run forever\n",
      "this loop will run forever\n",
      "this loop will run forever\n",
      "this loop will run forever\n",
      "this loop will run forever\n",
      "this loop will run forever\n",
      "this loop will run forever\n",
      "this loop will run forever\n",
      "this loop will run forever\n",
      "this loop will run forever\n",
      "this loop will run forever\n",
      "this loop will run forever\n",
      "this loop will run forever\n",
      "this loop will run forever\n",
      "this loop will run forever\n",
      "this loop will run forever\n",
      "this loop will run forever\n",
      "this loop will run forever\n",
      "this loop will run forever\n",
      "this loop will run forever\n",
      "this loop will run forever\n",
      "this loop will run forever\n",
      "this loop will run forever\n",
      "this loop will run forever\n",
      "this loop will run forever\n",
      "this loop will run forever\n",
      "this loop will run forever\n",
      "this loop will run forever\n",
      "this loop will run forever\n",
      "this loop will run forever\n",
      "this loop will run forever\n",
      "this loop will run forever\n",
      "this loop will run forever\n",
      "this loop will run forever\n",
      "this loop will run forever\n",
      "this loop will run forever\n",
      "this loop will run forever\n",
      "this loop will run forever\n",
      "this loop will run forever\n",
      "this loop will run forever\n",
      "this loop will run forever\n",
      "this loop will run forever\n",
      "this loop will run forever\n",
      "this loop will run forever\n",
      "this loop will run forever\n",
      "this loop will run forever\n",
      "this loop will run forever\n",
      "this loop will run forever\n",
      "this loop will run forever\n",
      "this loop will run forever\n",
      "this loop will run forever\n",
      "this loop will run forever\n",
      "this loop will run forever\n",
      "this loop will run forever\n",
      "this loop will run forever\n",
      "this loop will run forever\n",
      "this loop will run forever\n",
      "this loop will run forever\n",
      "this loop will run forever\n",
      "this loop will run forever\n",
      "this loop will run forever\n",
      "this loop will run forever\n",
      "this loop will run forever\n",
      "this loop will run forever\n",
      "this loop will run forever\n",
      "this loop will run forever\n",
      "this loop will run forever\n",
      "this loop will run forever\n",
      "this loop will run forever\n",
      "this loop will run forever\n",
      "this loop will run forever\n",
      "this loop will run forever\n",
      "this loop will run forever\n",
      "this loop will run forever\n",
      "this loop will run forever\n",
      "this loop will run forever\n",
      "this loop will run forever\n",
      "this loop will run forever\n",
      "this loop will run forever\n",
      "this loop will run forever\n",
      "this loop will run forever\n",
      "this loop will run forever\n",
      "this loop will run forever\n",
      "this loop will run forever\n",
      "this loop will run forever\n",
      "this loop will run forever\n",
      "this loop will run forever\n",
      "this loop will run forever\n",
      "this loop will run forever\n",
      "this loop will run forever\n",
      "this loop will run forever\n",
      "this loop will run forever\n",
      "this loop will run forever\n",
      "this loop will run forever\n",
      "this loop will run forever\n",
      "this loop will run forever\n",
      "this loop will run forever\n",
      "this loop will run forever\n",
      "this loop will run forever\n",
      "this loop will run forever\n",
      "this loop will run forever\n",
      "this loop will run forever\n",
      "this loop will run forever\n",
      "this loop will run forever\n",
      "this loop will run forever\n",
      "this loop will run forever\n",
      "this loop will run forever\n",
      "this loop will run forever\n",
      "this loop will run forever\n",
      "this loop will run forever\n",
      "this loop will run forever\n",
      "this loop will run forever\n",
      "this loop will run forever\n",
      "this loop will run forever\n",
      "this loop will run forever\n",
      "this loop will run forever\n",
      "this loop will run forever\n",
      "this loop will run forever\n",
      "this loop will run forever\n",
      "this loop will run forever\n",
      "this loop will run forever\n",
      "this loop will run forever\n",
      "this loop will run forever\n",
      "this loop will run forever\n",
      "this loop will run forever\n",
      "this loop will run forever\n",
      "this loop will run forever\n",
      "this loop will run forever\n",
      "this loop will run forever\n",
      "this loop will run forever\n",
      "this loop will run forever\n",
      "this loop will run forever\n",
      "this loop will run forever\n",
      "this loop will run forever\n",
      "this loop will run forever\n",
      "this loop will run forever\n",
      "this loop will run forever\n",
      "this loop will run forever\n",
      "this loop will run forever\n",
      "this loop will run forever\n",
      "this loop will run forever\n",
      "this loop will run forever\n",
      "this loop will run forever\n",
      "this loop will run forever\n",
      "this loop will run forever\n",
      "this loop will run forever\n",
      "this loop will run forever\n",
      "this loop will run forever\n",
      "this loop will run forever\n",
      "this loop will run forever\n",
      "this loop will run forever\n",
      "this loop will run forever\n",
      "this loop will run forever\n",
      "this loop will run forever\n",
      "this loop will run forever\n",
      "this loop will run forever\n",
      "this loop will run forever\n",
      "this loop will run forever\n",
      "this loop will run forever\n",
      "this loop will run forever\n",
      "this loop will run forever\n",
      "this loop will run forever\n",
      "this loop will run forever\n",
      "this loop will run forever\n",
      "this loop will run forever\n",
      "this loop will run forever\n",
      "this loop will run forever\n",
      "this loop will run forever\n",
      "this loop will run forever\n",
      "this loop will run forever\n",
      "this loop will run forever\n",
      "this loop will run forever\n",
      "this loop will run forever\n",
      "this loop will run forever\n",
      "this loop will run forever\n",
      "this loop will run forever\n",
      "this loop will run forever\n",
      "this loop will run forever\n",
      "this loop will run forever\n",
      "this loop will run forever\n",
      "this loop will run forever\n",
      "this loop will run forever\n",
      "this loop will run forever\n",
      "this loop will run forever\n",
      "this loop will run forever\n",
      "this loop will run forever\n",
      "this loop will run forever\n",
      "this loop will run forever\n",
      "this loop will run forever\n",
      "this loop will run forever\n",
      "this loop will run forever\n",
      "this loop will run forever\n",
      "this loop will run forever\n",
      "this loop will run forever\n",
      "this loop will run forever\n",
      "this loop will run forever\n",
      "this loop will run forever\n",
      "this loop will run forever\n",
      "this loop will run forever\n",
      "this loop will run forever\n",
      "this loop will run forever\n",
      "this loop will run forever\n",
      "this loop will run forever\n",
      "this loop will run forever\n",
      "this loop will run forever\n",
      "this loop will run forever\n",
      "this loop will run forever\n",
      "this loop will run forever\n",
      "this loop will run forever\n",
      "this loop will run forever\n",
      "this loop will run forever\n",
      "this loop will run forever\n",
      "this loop will run forever\n",
      "this loop will run forever\n",
      "this loop will run forever\n",
      "this loop will run forever\n",
      "this loop will run forever\n",
      "this loop will run forever\n",
      "this loop will run forever\n",
      "this loop will run forever\n",
      "this loop will run forever\n",
      "this loop will run forever\n",
      "this loop will run forever\n",
      "this loop will run forever\n",
      "this loop will run forever\n",
      "this loop will run forever\n",
      "this loop will run forever\n",
      "this loop will run forever\n",
      "this loop will run forever\n",
      "this loop will run forever\n",
      "this loop will run forever\n",
      "this loop will run forever\n",
      "this loop will run forever\n",
      "this loop will run forever\n",
      "this loop will run forever\n",
      "this loop will run forever\n",
      "this loop will run forever\n",
      "this loop will run forever\n",
      "this loop will run forever\n",
      "this loop will run forever\n",
      "this loop will run forever\n",
      "this loop will run forever\n",
      "this loop will run forever\n",
      "this loop will run forever\n",
      "this loop will run forever\n",
      "this loop will run forever\n",
      "this loop will run forever\n",
      "this loop will run forever\n",
      "this loop will run forever\n",
      "this loop will run forever\n",
      "this loop will run forever\n",
      "this loop will run forever\n",
      "this loop will run forever\n",
      "this loop will run forever\n",
      "this loop will run forever\n",
      "this loop will run forever\n",
      "this loop will run forever\n",
      "this loop will run forever\n",
      "this loop will run forever\n",
      "this loop will run forever\n",
      "this loop will run forever\n",
      "this loop will run forever\n",
      "this loop will run forever\n",
      "this loop will run forever\n",
      "this loop will run forever\n",
      "this loop will run forever\n",
      "this loop will run forever\n",
      "this loop will run forever\n",
      "this loop will run forever\n",
      "this loop will run forever\n",
      "this loop will run forever\n",
      "this loop will run forever\n",
      "this loop will run forever\n",
      "this loop will run forever\n",
      "this loop will run forever\n",
      "this loop will run forever\n",
      "this loop will run forever\n"
     ]
    },
    {
     "output_type": "error",
     "ename": "KeyboardInterrupt",
     "evalue": "",
     "traceback": [
      "\u001b[1;31m---------------------------------------------------------------------------\u001b[0m",
      "\u001b[1;31mKeyboardInterrupt\u001b[0m                         Traceback (most recent call last)",
      "\u001b[1;32m<ipython-input-22-efef669774f5>\u001b[0m in \u001b[0;36m<module>\u001b[1;34m\u001b[0m\n\u001b[0;32m      1\u001b[0m \u001b[1;32mwhile\u001b[0m \u001b[1;32mTrue\u001b[0m\u001b[1;33m:\u001b[0m\u001b[1;33m\u001b[0m\u001b[1;33m\u001b[0m\u001b[0m\n\u001b[1;32m----> 2\u001b[1;33m     \u001b[0mprint\u001b[0m\u001b[1;33m(\u001b[0m\u001b[1;34m'this loop will run forever'\u001b[0m\u001b[1;33m)\u001b[0m\u001b[1;33m\u001b[0m\u001b[1;33m\u001b[0m\u001b[0m\n\u001b[0m",
      "\u001b[1;32m~\\anaconda3\\lib\\site-packages\\ipykernel\\iostream.py\u001b[0m in \u001b[0;36mwrite\u001b[1;34m(self, string)\u001b[0m\n\u001b[0;32m    402\u001b[0m             \u001b[0mis_child\u001b[0m \u001b[1;33m=\u001b[0m \u001b[1;33m(\u001b[0m\u001b[1;32mnot\u001b[0m \u001b[0mself\u001b[0m\u001b[1;33m.\u001b[0m\u001b[0m_is_master_process\u001b[0m\u001b[1;33m(\u001b[0m\u001b[1;33m)\u001b[0m\u001b[1;33m)\u001b[0m\u001b[1;33m\u001b[0m\u001b[1;33m\u001b[0m\u001b[0m\n\u001b[0;32m    403\u001b[0m             \u001b[1;31m# only touch the buffer in the IO thread to avoid races\u001b[0m\u001b[1;33m\u001b[0m\u001b[1;33m\u001b[0m\u001b[1;33m\u001b[0m\u001b[0m\n\u001b[1;32m--> 404\u001b[1;33m             \u001b[0mself\u001b[0m\u001b[1;33m.\u001b[0m\u001b[0mpub_thread\u001b[0m\u001b[1;33m.\u001b[0m\u001b[0mschedule\u001b[0m\u001b[1;33m(\u001b[0m\u001b[1;32mlambda\u001b[0m \u001b[1;33m:\u001b[0m \u001b[0mself\u001b[0m\u001b[1;33m.\u001b[0m\u001b[0m_buffer\u001b[0m\u001b[1;33m.\u001b[0m\u001b[0mwrite\u001b[0m\u001b[1;33m(\u001b[0m\u001b[0mstring\u001b[0m\u001b[1;33m)\u001b[0m\u001b[1;33m)\u001b[0m\u001b[1;33m\u001b[0m\u001b[1;33m\u001b[0m\u001b[0m\n\u001b[0m\u001b[0;32m    405\u001b[0m             \u001b[1;32mif\u001b[0m \u001b[0mis_child\u001b[0m\u001b[1;33m:\u001b[0m\u001b[1;33m\u001b[0m\u001b[1;33m\u001b[0m\u001b[0m\n\u001b[0;32m    406\u001b[0m                 \u001b[1;31m# mp.Pool cannot be trusted to flush promptly (or ever),\u001b[0m\u001b[1;33m\u001b[0m\u001b[1;33m\u001b[0m\u001b[1;33m\u001b[0m\u001b[0m\n",
      "\u001b[1;32m~\\anaconda3\\lib\\site-packages\\ipykernel\\iostream.py\u001b[0m in \u001b[0;36mschedule\u001b[1;34m(self, f)\u001b[0m\n\u001b[0;32m    203\u001b[0m             \u001b[0mself\u001b[0m\u001b[1;33m.\u001b[0m\u001b[0m_events\u001b[0m\u001b[1;33m.\u001b[0m\u001b[0mappend\u001b[0m\u001b[1;33m(\u001b[0m\u001b[0mf\u001b[0m\u001b[1;33m)\u001b[0m\u001b[1;33m\u001b[0m\u001b[1;33m\u001b[0m\u001b[0m\n\u001b[0;32m    204\u001b[0m             \u001b[1;31m# wake event thread (message content is ignored)\u001b[0m\u001b[1;33m\u001b[0m\u001b[1;33m\u001b[0m\u001b[1;33m\u001b[0m\u001b[0m\n\u001b[1;32m--> 205\u001b[1;33m             \u001b[0mself\u001b[0m\u001b[1;33m.\u001b[0m\u001b[0m_event_pipe\u001b[0m\u001b[1;33m.\u001b[0m\u001b[0msend\u001b[0m\u001b[1;33m(\u001b[0m\u001b[1;34mb''\u001b[0m\u001b[1;33m)\u001b[0m\u001b[1;33m\u001b[0m\u001b[1;33m\u001b[0m\u001b[0m\n\u001b[0m\u001b[0;32m    206\u001b[0m         \u001b[1;32melse\u001b[0m\u001b[1;33m:\u001b[0m\u001b[1;33m\u001b[0m\u001b[1;33m\u001b[0m\u001b[0m\n\u001b[0;32m    207\u001b[0m             \u001b[0mf\u001b[0m\u001b[1;33m(\u001b[0m\u001b[1;33m)\u001b[0m\u001b[1;33m\u001b[0m\u001b[1;33m\u001b[0m\u001b[0m\n",
      "\u001b[1;32m~\\anaconda3\\lib\\site-packages\\zmq\\sugar\\socket.py\u001b[0m in \u001b[0;36msend\u001b[1;34m(self, data, flags, copy, track, routing_id, group)\u001b[0m\n\u001b[0;32m    414\u001b[0m                                  copy_threshold=self.copy_threshold)\n\u001b[0;32m    415\u001b[0m             \u001b[0mdata\u001b[0m\u001b[1;33m.\u001b[0m\u001b[0mgroup\u001b[0m \u001b[1;33m=\u001b[0m \u001b[0mgroup\u001b[0m\u001b[1;33m\u001b[0m\u001b[1;33m\u001b[0m\u001b[0m\n\u001b[1;32m--> 416\u001b[1;33m         \u001b[1;32mreturn\u001b[0m \u001b[0msuper\u001b[0m\u001b[1;33m(\u001b[0m\u001b[0mSocket\u001b[0m\u001b[1;33m,\u001b[0m \u001b[0mself\u001b[0m\u001b[1;33m)\u001b[0m\u001b[1;33m.\u001b[0m\u001b[0msend\u001b[0m\u001b[1;33m(\u001b[0m\u001b[0mdata\u001b[0m\u001b[1;33m,\u001b[0m \u001b[0mflags\u001b[0m\u001b[1;33m=\u001b[0m\u001b[0mflags\u001b[0m\u001b[1;33m,\u001b[0m \u001b[0mcopy\u001b[0m\u001b[1;33m=\u001b[0m\u001b[0mcopy\u001b[0m\u001b[1;33m,\u001b[0m \u001b[0mtrack\u001b[0m\u001b[1;33m=\u001b[0m\u001b[0mtrack\u001b[0m\u001b[1;33m)\u001b[0m\u001b[1;33m\u001b[0m\u001b[1;33m\u001b[0m\u001b[0m\n\u001b[0m\u001b[0;32m    417\u001b[0m \u001b[1;33m\u001b[0m\u001b[0m\n\u001b[0;32m    418\u001b[0m     \u001b[1;32mdef\u001b[0m \u001b[0msend_multipart\u001b[0m\u001b[1;33m(\u001b[0m\u001b[0mself\u001b[0m\u001b[1;33m,\u001b[0m \u001b[0mmsg_parts\u001b[0m\u001b[1;33m,\u001b[0m \u001b[0mflags\u001b[0m\u001b[1;33m=\u001b[0m\u001b[1;36m0\u001b[0m\u001b[1;33m,\u001b[0m \u001b[0mcopy\u001b[0m\u001b[1;33m=\u001b[0m\u001b[1;32mTrue\u001b[0m\u001b[1;33m,\u001b[0m \u001b[0mtrack\u001b[0m\u001b[1;33m=\u001b[0m\u001b[1;32mFalse\u001b[0m\u001b[1;33m,\u001b[0m \u001b[1;33m**\u001b[0m\u001b[0mkwargs\u001b[0m\u001b[1;33m)\u001b[0m\u001b[1;33m:\u001b[0m\u001b[1;33m\u001b[0m\u001b[1;33m\u001b[0m\u001b[0m\n",
      "\u001b[1;32mzmq/backend/cython/socket.pyx\u001b[0m in \u001b[0;36mzmq.backend.cython.socket.Socket.send\u001b[1;34m()\u001b[0m\n",
      "\u001b[1;32mzmq/backend/cython/socket.pyx\u001b[0m in \u001b[0;36mzmq.backend.cython.socket.Socket.send\u001b[1;34m()\u001b[0m\n",
      "\u001b[1;32mzmq/backend/cython/socket.pyx\u001b[0m in \u001b[0;36mzmq.backend.cython.socket._send_copy\u001b[1;34m()\u001b[0m\n",
      "\u001b[1;32m~\\anaconda3\\lib\\site-packages\\zmq\\backend\\cython\\checkrc.pxd\u001b[0m in \u001b[0;36mzmq.backend.cython.checkrc._check_rc\u001b[1;34m()\u001b[0m\n",
      "\u001b[1;31mKeyboardInterrupt\u001b[0m: "
     ]
    }
   ],
   "source": [
    "while True:\n",
    "    print('this loop will run forever')"
   ]
  },
  {
   "cell_type": "code",
   "execution_count": 31,
   "metadata": {},
   "outputs": [],
   "source": [
    "a = int(input())"
   ]
  },
  {
   "cell_type": "code",
   "execution_count": 32,
   "metadata": {},
   "outputs": [
    {
     "output_type": "execute_result",
     "data": {
      "text/plain": [
       "5"
      ]
     },
     "metadata": {},
     "execution_count": 32
    }
   ],
   "source": [
    "a"
   ]
  },
  {
   "cell_type": "code",
   "execution_count": 33,
   "metadata": {},
   "outputs": [
    {
     "output_type": "stream",
     "name": "stdout",
     "text": [
      "108\n117\n120\n126\n132\n135\n144\n153\n156\n162\n168\n171\n180\n189\n192\n198\n"
     ]
    }
   ],
   "source": [
    "for i in range(100,201):\n",
    "    if i%9==0 or i%12==0:\n",
    "        print(i)"
   ]
  },
  {
   "cell_type": "code",
   "execution_count": null,
   "metadata": {},
   "outputs": [],
   "source": []
  }
 ]
}